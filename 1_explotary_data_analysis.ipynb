{
 "cells": [
  {
   "cell_type": "code",
   "execution_count": 125,
   "id": "fbeecf97",
   "metadata": {},
   "outputs": [],
   "source": [
    "#importing the library\n",
    "import pandas as pd\n",
    "import matplotlib.pyplot as plt\n",
    "import seaborn as sns\n"
   ]
  },
  {
   "cell_type": "code",
   "execution_count": 126,
   "id": "c5ec75be",
   "metadata": {},
   "outputs": [],
   "source": [
    "#importing the dataset from csv file\n",
    "df=pd.read_csv(\"Data/Titanic-Dataset.csv\")"
   ]
  },
  {
   "cell_type": "code",
   "execution_count": 127,
   "id": "8eecaebd",
   "metadata": {},
   "outputs": [],
   "source": [
    "#removing all not important columns and copying it to new data frame\n",
    "impove_df=df.drop(columns=[\"Cabin\",\"Embarked\",\"Ticket\"]).copy()\n"
   ]
  },
  {
   "cell_type": "code",
   "execution_count": null,
   "id": "53d95f2d",
   "metadata": {},
   "outputs": [],
   "source": [
    "# create a new column to classify each passenger as 'child' (age ≤ 12) or 'adult' (age > 12)\n",
    "impove_df[\"PersonType\"]=impove_df.Age.apply(lambda age: \"child\" if age<=12 else \"adult\")"
   ]
  },
  {
   "cell_type": "code",
   "execution_count": 129,
   "id": "b8eb507f",
   "metadata": {},
   "outputs": [],
   "source": [
    "#filling the missing age with median age\n",
    "age_median=impove_df.Age.median()\n",
    "impove_df[\"Age\"]=impove_df.Age.fillna(value=age_median)"
   ]
  },
  {
   "cell_type": "code",
   "execution_count": 130,
   "id": "431a99a1",
   "metadata": {},
   "outputs": [],
   "source": [
    "# creating separate DataFrames for passengers who survived and those who did not \n",
    "survied_df=impove_df[impove_df.Survived==1]\n",
    "died_df=impove_df[impove_df.Survived==0]\n"
   ]
  },
  {
   "cell_type": "code",
   "execution_count": 131,
   "id": "ffad42ee",
   "metadata": {},
   "outputs": [],
   "source": [
    "# counting the number of survivors and non-survivors in each passenger class and merging the results into a single DataFrame\n",
    "survied_and_died_by_Pclass=survied_df.groupby(\"Pclass\")[\"Survived\"].count().to_frame()\n",
    "died_df_pivoit_table=died_df.groupby(\"Pclass\")[\"Survived\"].count().to_frame().rename(columns={\"Survived\":\"Not Survived\"})\n",
    "survied_and_died_by_Pclass=survied_and_died_by_Pclass.merge(died_df_pivoit_table,on=survied_and_died_by_Pclass.index).rename(columns={\"key_0\":\"Pclass\"}).set_index(\"Pclass\")"
   ]
  },
  {
   "cell_type": "code",
   "execution_count": 132,
   "id": "2fb7e90b",
   "metadata": {},
   "outputs": [
    {
     "data": {
      "text/html": [
       "<div>\n",
       "<style scoped>\n",
       "    .dataframe tbody tr th:only-of-type {\n",
       "        vertical-align: middle;\n",
       "    }\n",
       "\n",
       "    .dataframe tbody tr th {\n",
       "        vertical-align: top;\n",
       "    }\n",
       "\n",
       "    .dataframe thead th {\n",
       "        text-align: right;\n",
       "    }\n",
       "</style>\n",
       "<table border=\"1\" class=\"dataframe\">\n",
       "  <thead>\n",
       "    <tr style=\"text-align: right;\">\n",
       "      <th></th>\n",
       "      <th>Survived</th>\n",
       "      <th>Not Survived</th>\n",
       "      <th>total</th>\n",
       "      <th>Survived percentage</th>\n",
       "      <th>Not Survived percentage</th>\n",
       "    </tr>\n",
       "    <tr>\n",
       "      <th>Pclass</th>\n",
       "      <th></th>\n",
       "      <th></th>\n",
       "      <th></th>\n",
       "      <th></th>\n",
       "      <th></th>\n",
       "    </tr>\n",
       "  </thead>\n",
       "  <tbody>\n",
       "    <tr>\n",
       "      <th>1</th>\n",
       "      <td>136</td>\n",
       "      <td>80</td>\n",
       "      <td>216</td>\n",
       "      <td>62.96</td>\n",
       "      <td>37.04</td>\n",
       "    </tr>\n",
       "    <tr>\n",
       "      <th>2</th>\n",
       "      <td>87</td>\n",
       "      <td>97</td>\n",
       "      <td>184</td>\n",
       "      <td>47.28</td>\n",
       "      <td>52.72</td>\n",
       "    </tr>\n",
       "    <tr>\n",
       "      <th>3</th>\n",
       "      <td>119</td>\n",
       "      <td>372</td>\n",
       "      <td>491</td>\n",
       "      <td>24.24</td>\n",
       "      <td>75.76</td>\n",
       "    </tr>\n",
       "  </tbody>\n",
       "</table>\n",
       "</div>"
      ],
      "text/plain": [
       "        Survived  Not Survived  total  Survived percentage  \\\n",
       "Pclass                                                       \n",
       "1            136            80    216                62.96   \n",
       "2             87            97    184                47.28   \n",
       "3            119           372    491                24.24   \n",
       "\n",
       "        Not Survived percentage  \n",
       "Pclass                           \n",
       "1                         37.04  \n",
       "2                         52.72  \n",
       "3                         75.76  "
      ]
     },
     "execution_count": 132,
     "metadata": {},
     "output_type": "execute_result"
    }
   ],
   "source": [
    "# calculate total passengers, survived percentage, and not survived percentage for each passenger class\n",
    "survied_and_died_by_Pclass[\"total\"]=survied_and_died_by_Pclass[\"Survived\"]+survied_and_died_by_Pclass[\"Not Survived\"]\n",
    "survied_and_died_by_Pclass[\"Survived percentage\"]=(survied_and_died_by_Pclass[\"Survived\"]/survied_and_died_by_Pclass[\"total\"]*100).round(2)\n",
    "survied_and_died_by_Pclass[\"Not Survived percentage\"]=(survied_and_died_by_Pclass[\"Not Survived\"]/survied_and_died_by_Pclass[\"total\"]*100).round(2)\n",
    "survied_and_died_by_Pclass"
   ]
  },
  {
   "cell_type": "code",
   "execution_count": 133,
   "id": "97aa414e",
   "metadata": {},
   "outputs": [
    {
     "data": {
      "image/png": "[encoded data removed]",
      "text/plain": [
       "<Figure size 640x480 with 1 Axes>"
      ]
     },
     "metadata": {},
     "output_type": "display_data"
    }
   ],
   "source": [
    "#ploting the dataframe\n",
    "survied_and_died_by_Pclass.plot(kind=\"barh\",y=[\"Survived percentage\",\"Not Survived percentage\"],label=[\"Survived\",\"Not Survived\"])\n",
    "plt.xlabel(\"Percentage of Passengers (%)\")\n",
    "plt.ylabel(\"Passenger Class\")\n",
    "ax=plt.gca()\n",
    "ax.xaxis.set_major_formatter(plt.FuncFormatter(lambda x,pos:f\"{x:.0f}%\"))\n",
    "plt.title(\"Titanic Survival by Passenger Class (Percentage)\")\n",
    "sns.despine()"
   ]
  },
  {
   "cell_type": "markdown",
   "id": "6bddc513",
   "metadata": {},
   "source": [
    "From the above graph we can say that survival chances on the Titanic strongly depended on passenger class:\n",
    "\n",
    "1) 1st class passengers had the best chance of survival.\n",
    "\n",
    "2) 2nd class passengers had a moderate chance.\n",
    "\n",
    "3) 3rd class passengers had the lowest survival rate, with most perishing.\n",
    "\n",
    "This reflects the social and economic disparities in access to lifeboats and rescue opportunities."
   ]
  },
  {
   "cell_type": "code",
   "execution_count": 134,
   "id": "faee624c",
   "metadata": {},
   "outputs": [],
   "source": [
    "# counting the number of survivors and non-survivors according to the gender and merging the results into a single DataFrame\n",
    "survied_and_died_by_gender=survied_df.Sex.value_counts().to_frame().rename(columns={\"count\":\"Survived\"}).reset_index()\n",
    "died_df_pivoit_table=died_df.Sex.value_counts().to_frame().rename(columns={\"count\":\"Not Survived\"}).reset_index()\n",
    "survied_and_died_by_gender=survied_and_died_by_gender.merge(died_df_pivoit_table,on=\"Sex\").rename(columns={\"Sex\":\"Gender\"}).set_index(\"Gender\")"
   ]
  },
  {
   "cell_type": "code",
   "execution_count": 135,
   "id": "ccf55639",
   "metadata": {},
   "outputs": [
    {
     "data": {
      "text/html": [
       "<div>\n",
       "<style scoped>\n",
       "    .dataframe tbody tr th:only-of-type {\n",
       "        vertical-align: middle;\n",
       "    }\n",
       "\n",
       "    .dataframe tbody tr th {\n",
       "        vertical-align: top;\n",
       "    }\n",
       "\n",
       "    .dataframe thead th {\n",
       "        text-align: right;\n",
       "    }\n",
       "</style>\n",
       "<table border=\"1\" class=\"dataframe\">\n",
       "  <thead>\n",
       "    <tr style=\"text-align: right;\">\n",
       "      <th></th>\n",
       "      <th>Survived</th>\n",
       "      <th>Not Survived</th>\n",
       "      <th>total</th>\n",
       "      <th>Survived percentage</th>\n",
       "      <th>Not Survived percentage</th>\n",
       "    </tr>\n",
       "    <tr>\n",
       "      <th>Gender</th>\n",
       "      <th></th>\n",
       "      <th></th>\n",
       "      <th></th>\n",
       "      <th></th>\n",
       "      <th></th>\n",
       "    </tr>\n",
       "  </thead>\n",
       "  <tbody>\n",
       "    <tr>\n",
       "      <th>female</th>\n",
       "      <td>233</td>\n",
       "      <td>81</td>\n",
       "      <td>314</td>\n",
       "      <td>74.20</td>\n",
       "      <td>25.80</td>\n",
       "    </tr>\n",
       "    <tr>\n",
       "      <th>male</th>\n",
       "      <td>109</td>\n",
       "      <td>468</td>\n",
       "      <td>577</td>\n",
       "      <td>18.89</td>\n",
       "      <td>81.11</td>\n",
       "    </tr>\n",
       "  </tbody>\n",
       "</table>\n",
       "</div>"
      ],
      "text/plain": [
       "        Survived  Not Survived  total  Survived percentage  \\\n",
       "Gender                                                       \n",
       "female       233            81    314                74.20   \n",
       "male         109           468    577                18.89   \n",
       "\n",
       "        Not Survived percentage  \n",
       "Gender                           \n",
       "female                    25.80  \n",
       "male                      81.11  "
      ]
     },
     "execution_count": 135,
     "metadata": {},
     "output_type": "execute_result"
    }
   ],
   "source": [
    "# calculate total passengers, survived percentage, and not survived percentage for passenger gender\n",
    "survied_and_died_by_gender[\"total\"]=survied_and_died_by_gender[\"Survived\"]+survied_and_died_by_gender[\"Not Survived\"]\n",
    "survied_and_died_by_gender[\"Survived percentage\"]=(survied_and_died_by_gender[\"Survived\"]/survied_and_died_by_gender[\"total\"]*100).round(2)\n",
    "survied_and_died_by_gender[\"Not Survived percentage\"]=(survied_and_died_by_gender[\"Not Survived\"]/survied_and_died_by_gender[\"total\"]*100).round(2)\n",
    "survied_and_died_by_gender"
   ]
  },
  {
   "cell_type": "code",
   "execution_count": 136,
   "id": "0d18c52e",
   "metadata": {},
   "outputs": [
    {
     "data": {
      "image/png": "[encoded data removed]",
      "text/plain": [
       "<Figure size 640x480 with 1 Axes>"
      ]
     },
     "metadata": {},
     "output_type": "display_data"
    }
   ],
   "source": [
    "#ploting the graph\n",
    "survied_and_died_by_gender.plot(kind=\"barh\",y=[\"Survived percentage\",\"Not Survived percentage\"],label=[\"Survived\",\"Not Survived\"])\n",
    "ax=plt.gca()\n",
    "ax.xaxis.set_major_formatter(plt.FuncFormatter(lambda x,pos:f\"{x:.0f}%\"))\n",
    "plt.xlabel(\"Percentage of passenger\")\n",
    "plt.title(\"Impact of Passenger Gender on Titanic Survival\")\n",
    "sns.despine()"
   ]
  },
  {
   "cell_type": "markdown",
   "id": "a0bc0a4d",
   "metadata": {},
   "source": [
    "From the above graph we can say that:\n",
    "\n",
    "1) Survival chances on the Titanic strongly depended on passenger gender:\n",
    "\n",
    "2) Percentage of male passanger who did not survived were more than the number of female passanger \n",
    "\n",
    "This reflects the \"women and children first\" evacuation policy, where females were given higher priority for lifeboats and rescue opportunities."
   ]
  },
  {
   "cell_type": "code",
   "execution_count": 137,
   "id": "f694d403",
   "metadata": {},
   "outputs": [],
   "source": [
    "# counting the number of survivors and non-survivors according to the person type and merging the results into a single DataFrame\n",
    "survied_and_died_by_PersonType=survied_df.PersonType.value_counts().to_frame().rename(columns={\"count\":\"Survived\"}).reset_index()\n",
    "died_df_pivoit_table=died_df.PersonType.value_counts().to_frame().rename(columns={\"count\":\"Not Survived\"}).reset_index()\n",
    "survied_and_died_by_PersonType=survied_and_died_by_PersonType.merge(died_df_pivoit_table,on=\"PersonType\").set_index(\"PersonType\")\n"
   ]
  },
  {
   "cell_type": "code",
   "execution_count": 138,
   "id": "bc8fc242",
   "metadata": {},
   "outputs": [
    {
     "data": {
      "text/html": [
       "<div>\n",
       "<style scoped>\n",
       "    .dataframe tbody tr th:only-of-type {\n",
       "        vertical-align: middle;\n",
       "    }\n",
       "\n",
       "    .dataframe tbody tr th {\n",
       "        vertical-align: top;\n",
       "    }\n",
       "\n",
       "    .dataframe thead th {\n",
       "        text-align: right;\n",
       "    }\n",
       "</style>\n",
       "<table border=\"1\" class=\"dataframe\">\n",
       "  <thead>\n",
       "    <tr style=\"text-align: right;\">\n",
       "      <th></th>\n",
       "      <th>Survived</th>\n",
       "      <th>Not Survived</th>\n",
       "      <th>total</th>\n",
       "      <th>Survived percentage</th>\n",
       "      <th>Not Survived percentage</th>\n",
       "    </tr>\n",
       "    <tr>\n",
       "      <th>PersonType</th>\n",
       "      <th></th>\n",
       "      <th></th>\n",
       "      <th></th>\n",
       "      <th></th>\n",
       "      <th></th>\n",
       "    </tr>\n",
       "  </thead>\n",
       "  <tbody>\n",
       "    <tr>\n",
       "      <th>adult</th>\n",
       "      <td>302</td>\n",
       "      <td>520</td>\n",
       "      <td>822</td>\n",
       "      <td>36.74</td>\n",
       "      <td>63.26</td>\n",
       "    </tr>\n",
       "    <tr>\n",
       "      <th>child</th>\n",
       "      <td>40</td>\n",
       "      <td>29</td>\n",
       "      <td>69</td>\n",
       "      <td>57.97</td>\n",
       "      <td>42.03</td>\n",
       "    </tr>\n",
       "  </tbody>\n",
       "</table>\n",
       "</div>"
      ],
      "text/plain": [
       "            Survived  Not Survived  total  Survived percentage  \\\n",
       "PersonType                                                       \n",
       "adult            302           520    822                36.74   \n",
       "child             40            29     69                57.97   \n",
       "\n",
       "            Not Survived percentage  \n",
       "PersonType                           \n",
       "adult                         63.26  \n",
       "child                         42.03  "
      ]
     },
     "execution_count": 138,
     "metadata": {},
     "output_type": "execute_result"
    }
   ],
   "source": [
    "# calculate total passengers, survived percentage, and not survived percentage for passenger gender\n",
    "survied_and_died_by_PersonType[\"total\"]=survied_and_died_by_PersonType[\"Survived\"]+survied_and_died_by_PersonType[\"Not Survived\"]\n",
    "survied_and_died_by_PersonType[\"Survived percentage\"]=(survied_and_died_by_PersonType[\"Survived\"]/survied_and_died_by_PersonType[\"total\"]*100).round(2)\n",
    "survied_and_died_by_PersonType[\"Not Survived percentage\"]=(survied_and_died_by_PersonType[\"Not Survived\"]/survied_and_died_by_PersonType[\"total\"]*100).round(2)\n",
    "survied_and_died_by_PersonType"
   ]
  },
  {
   "cell_type": "code",
   "execution_count": 139,
   "id": "8a5817d5",
   "metadata": {},
   "outputs": [
    {
     "data": {
      "image/png": "[encoded data removed]",
      "text/plain": [
       "<Figure size 640x480 with 1 Axes>"
      ]
     },
     "metadata": {},
     "output_type": "display_data"
    }
   ],
   "source": [
    "#ploting the graph\n",
    "survied_and_died_by_PersonType.plot(kind=\"barh\",y=[\"Survived percentage\",\"Not Survived percentage\"],label=[\"Survived\",\"Not Survived\"])\n",
    "ax=plt.gca()\n",
    "ax.xaxis.set_major_formatter(plt.FuncFormatter(lambda x,pos:f\"{x:.0f}%\"))\n",
    "plt.xlabel(\"Percentage of passenger\")\n",
    "plt.ylabel(\"Person type\")\n",
    "plt.title(\"Impact of Passenger Age on Titanic Survival\")\n",
    "sns.despine()"
   ]
  },
  {
   "cell_type": "markdown",
   "id": "3f323068",
   "metadata": {},
   "source": [
    "From the above graph we can say that\n",
    "\n",
    "1) Percentage of childen survied is more compared to the childen who did not.\n",
    "\n",
    "2) This shows the \"women and children first\" evacuation policy, where childen were given higher priority for lifeboats and rescue opportunities.\n",
    "\n"
   ]
  },
  {
   "cell_type": "code",
   "execution_count": 140,
   "id": "cd0ed803",
   "metadata": {},
   "outputs": [],
   "source": [
    "#removing the column which are not needed for the logictic regression\n",
    "impove_df=impove_df.drop(columns=[\"Name\",\"SibSp\",\"Parch\",\"Fare\",\"PersonType\",\"PassengerId\"])"
   ]
  },
  {
   "cell_type": "code",
   "execution_count": 141,
   "id": "5d9421a4",
   "metadata": {},
   "outputs": [],
   "source": [
    "# Encode 'Sex' column: male → 1, female → 0 (for use in logictic regression)\n",
    "impove_df[\"Sex\"]=impove_df.Sex.apply(lambda Sex: 1 if Sex==\"male\" else 0)\n"
   ]
  },
  {
   "cell_type": "code",
   "execution_count": 142,
   "id": "f2563263",
   "metadata": {},
   "outputs": [
    {
     "data": {
      "text/html": [
       "<div>\n",
       "<style scoped>\n",
       "    .dataframe tbody tr th:only-of-type {\n",
       "        vertical-align: middle;\n",
       "    }\n",
       "\n",
       "    .dataframe tbody tr th {\n",
       "        vertical-align: top;\n",
       "    }\n",
       "\n",
       "    .dataframe thead th {\n",
       "        text-align: right;\n",
       "    }\n",
       "</style>\n",
       "<table border=\"1\" class=\"dataframe\">\n",
       "  <thead>\n",
       "    <tr style=\"text-align: right;\">\n",
       "      <th></th>\n",
       "      <th>Survived</th>\n",
       "      <th>Pclass</th>\n",
       "      <th>Sex</th>\n",
       "      <th>Age</th>\n",
       "    </tr>\n",
       "  </thead>\n",
       "  <tbody>\n",
       "    <tr>\n",
       "      <th>0</th>\n",
       "      <td>0</td>\n",
       "      <td>3</td>\n",
       "      <td>1</td>\n",
       "      <td>22.0</td>\n",
       "    </tr>\n",
       "    <tr>\n",
       "      <th>1</th>\n",
       "      <td>1</td>\n",
       "      <td>1</td>\n",
       "      <td>0</td>\n",
       "      <td>38.0</td>\n",
       "    </tr>\n",
       "    <tr>\n",
       "      <th>2</th>\n",
       "      <td>1</td>\n",
       "      <td>3</td>\n",
       "      <td>0</td>\n",
       "      <td>26.0</td>\n",
       "    </tr>\n",
       "    <tr>\n",
       "      <th>3</th>\n",
       "      <td>1</td>\n",
       "      <td>1</td>\n",
       "      <td>0</td>\n",
       "      <td>35.0</td>\n",
       "    </tr>\n",
       "    <tr>\n",
       "      <th>4</th>\n",
       "      <td>0</td>\n",
       "      <td>3</td>\n",
       "      <td>1</td>\n",
       "      <td>35.0</td>\n",
       "    </tr>\n",
       "    <tr>\n",
       "      <th>...</th>\n",
       "      <td>...</td>\n",
       "      <td>...</td>\n",
       "      <td>...</td>\n",
       "      <td>...</td>\n",
       "    </tr>\n",
       "    <tr>\n",
       "      <th>886</th>\n",
       "      <td>0</td>\n",
       "      <td>2</td>\n",
       "      <td>1</td>\n",
       "      <td>27.0</td>\n",
       "    </tr>\n",
       "    <tr>\n",
       "      <th>887</th>\n",
       "      <td>1</td>\n",
       "      <td>1</td>\n",
       "      <td>0</td>\n",
       "      <td>19.0</td>\n",
       "    </tr>\n",
       "    <tr>\n",
       "      <th>888</th>\n",
       "      <td>0</td>\n",
       "      <td>3</td>\n",
       "      <td>0</td>\n",
       "      <td>28.0</td>\n",
       "    </tr>\n",
       "    <tr>\n",
       "      <th>889</th>\n",
       "      <td>1</td>\n",
       "      <td>1</td>\n",
       "      <td>1</td>\n",
       "      <td>26.0</td>\n",
       "    </tr>\n",
       "    <tr>\n",
       "      <th>890</th>\n",
       "      <td>0</td>\n",
       "      <td>3</td>\n",
       "      <td>1</td>\n",
       "      <td>32.0</td>\n",
       "    </tr>\n",
       "  </tbody>\n",
       "</table>\n",
       "<p>891 rows × 4 columns</p>\n",
       "</div>"
      ],
      "text/plain": [
       "     Survived  Pclass  Sex   Age\n",
       "0           0       3    1  22.0\n",
       "1           1       1    0  38.0\n",
       "2           1       3    0  26.0\n",
       "3           1       1    0  35.0\n",
       "4           0       3    1  35.0\n",
       "..        ...     ...  ...   ...\n",
       "886         0       2    1  27.0\n",
       "887         1       1    0  19.0\n",
       "888         0       3    0  28.0\n",
       "889         1       1    1  26.0\n",
       "890         0       3    1  32.0\n",
       "\n",
       "[891 rows x 4 columns]"
      ]
     },
     "execution_count": 142,
     "metadata": {},
     "output_type": "execute_result"
    }
   ],
   "source": [
    "impove_df"
   ]
  },
  {
   "cell_type": "code",
   "execution_count": 143,
   "id": "3d5e83dc",
   "metadata": {},
   "outputs": [],
   "source": [
    "#impove_df.to_csv(\"Data/impove_dataset.csv\",index_label=False)"
   ]
  }
 ],
 "metadata": {
  "kernelspec": {
   "display_name": "marks_predictor",
   "language": "python",
   "name": "python3"
  },
  "language_info": {
   "codemirror_mode": {
    "name": "ipython",
    "version": 3
   },
   "file_extension": ".py",
   "mimetype": "text/x-python",
   "name": "python",
   "nbconvert_exporter": "python",
   "pygments_lexer": "ipython3",
   "version": "3.12.11"
  }
 },
 "nbformat": 4,
 "nbformat_minor": 5
}
