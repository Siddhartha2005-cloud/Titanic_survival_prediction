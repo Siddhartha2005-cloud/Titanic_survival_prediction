{
 "cells": [
  {
   "cell_type": "code",
   "execution_count": 2,
   "id": "a9b09d62",
   "metadata": {},
   "outputs": [],
   "source": [
    "#importing the library \n",
    "import pandas as pd\n",
    "from sklearn.linear_model import LogisticRegression\n",
    "from sklearn.metrics import accuracy_score\n",
    "from sklearn.preprocessing import MinMaxScaler\n",
    "from sklearn.model_selection import train_test_split"
   ]
  },
  {
   "cell_type": "code",
   "execution_count": 3,
   "id": "74b6d55b",
   "metadata": {},
   "outputs": [],
   "source": [
    "#importing the dataframe from the csv\n",
    "df=pd.read_csv(\"Data/impove_dataset.csv\")"
   ]
  },
  {
   "cell_type": "code",
   "execution_count": 4,
   "id": "2c7ea0f7",
   "metadata": {},
   "outputs": [],
   "source": [
    "# scale the 'Age' column using MinMaxScaler\n",
    "standed_scale=MinMaxScaler()\n",
    "df.Age=standed_scale.fit_transform(df[[\"Age\"]])\n"
   ]
  },
  {
   "cell_type": "code",
   "execution_count": 5,
   "id": "be9d4404",
   "metadata": {},
   "outputs": [],
   "source": [
    "# split the dataset into training and testing sets (80% train, 20% test)\n",
    "x_train,x_test,y_train,y_test=train_test_split(df[[\"Pclass\",\"Sex\",\"Age\"]],df.Survived,test_size=0.20,random_state=1)"
   ]
  },
  {
   "cell_type": "code",
   "execution_count": 6,
   "id": "065b0a4b",
   "metadata": {},
   "outputs": [],
   "source": [
    "#defining the model\n",
    "logictic_model=LogisticRegression()\n",
    "\n",
    "#traning the model\n",
    "logictic_model.fit(x_train,y_train)\n",
    "\n",
    "#predicting the value\n",
    "y_test_predict=logictic_model.predict(x_test)"
   ]
  },
  {
   "cell_type": "code",
   "execution_count": 7,
   "id": "fd92d965",
   "metadata": {},
   "outputs": [],
   "source": [
    "#calculating the accuracy of the model\n",
    "accuracy=accuracy_score(y_pred=y_test_predict,y_true=y_test)\n"
   ]
  },
  {
   "cell_type": "code",
   "execution_count": 8,
   "id": "5deb9f9d",
   "metadata": {},
   "outputs": [
    {
     "name": "stdout",
     "output_type": "stream",
     "text": [
      "Accuracy of the model:79.33%\n"
     ]
    }
   ],
   "source": [
    "print(f\"Accuracy of the model:{(accuracy*100):.02f}%\")"
   ]
  }
 ],
 "metadata": {
  "kernelspec": {
   "display_name": "marks_predictor",
   "language": "python",
   "name": "python3"
  },
  "language_info": {
   "codemirror_mode": {
    "name": "ipython",
    "version": 3
   },
   "file_extension": ".py",
   "mimetype": "text/x-python",
   "name": "python",
   "nbconvert_exporter": "python",
   "pygments_lexer": "ipython3",
   "version": "3.12.11"
  }
 },
 "nbformat": 4,
 "nbformat_minor": 5
}
